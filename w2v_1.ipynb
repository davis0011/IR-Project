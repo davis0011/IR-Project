{
  "nbformat": 4,
  "nbformat_minor": 0,
  "metadata": {
    "colab": {
      "provenance": []
    },
    "kernelspec": {
      "name": "python3",
      "display_name": "Python 3"
    },
    "language_info": {
      "name": "python"
    }
  },
  "cells": [
    {
      "cell_type": "code",
      "execution_count": null,
      "metadata": {
        "id": "L7z1NONIsqrF"
      },
      "outputs": [],
      "source": [
        "import logging\n",
        "logging.basicConfig(format='%(asctime)s : %(levelname)s : %(message)s', level=logging.INFO)\n",
        "import gensim.downloader as api\n",
        "from gensim.models.word2vec import Word2Vec\n",
        "import json\n",
        "info = api.info()\n",
        "for model_name, model_data in sorted(info['models'].items()):\n",
        "    print(\n",
        "        '%s (%d records): %s' % (\n",
        "            model_name,\n",
        "            model_data.get('num_records', -1),\n",
        "            model_data['description'][:40] + '...',\n",
        "        )\n",
        "    )\n",
        "\n",
        "wiki_info = api.info('glove-wiki-gigaword-100')\n",
        "print(json.dumps(wiki_info, indent=4))\n",
        "print(api.load('glove-wiki-gigaword-100', return_path=True))\n",
        "model = api.load(\"glove-wiki-gigaword-100\")\n",
        "ret = model.most_similar(\"glass\",topn=50)\n",
        "query = \"most expensive city in the world\"\n",
        "for orig in query.split():\n",
        "  print(f\"q word is {orig}\")\n",
        "  ret = model.most_similar(orig, topn=25)\n",
        "  for word,_ in ret:\n",
        "    if word in orig or orig in word:\n",
        "      print(\"expand with \",word,_)"
      ]
    },
    {
      "cell_type": "code",
      "source": [
        "query = \"information retrieval\".split()\n",
        "from datetime import datetime as dt\n",
        "\n",
        "t = dt.now()\n",
        "for word in query:\n",
        "  print(\"####\\n\",word)\n",
        "  print(model.most_similar(word)[:3])\n",
        "print(dt.now()-t)\n",
        "\"\"\"\n",
        "####\n",
        " best\n",
        "[('good', 0.8546279668807983), ('play', 0.8287460803985596), ('winning', 0.826166033744812)]\n",
        "####\n",
        " marvel\n",
        "[('comics', 0.8800784945487976), ('superhero', 0.7951078414916992), ('imprint', 0.776889443397522)]\n",
        "####\n",
        " movie\n",
        "[('movies', 0.9322481155395508), ('film', 0.9310100078582764), ('films', 0.8937394022941589)]\n",
        "0:00:00.049014\n",
        "\"\"\""
      ],
      "metadata": {
        "id": "CeOa7J0lsvDU",
        "colab": {
          "base_uri": "https://localhost:8080/",
          "height": 192
        },
        "outputId": "2bbcbb5f-9c47-44f0-fe79-dcd2c900b621"
      },
      "execution_count": null,
      "outputs": [
        {
          "output_type": "stream",
          "name": "stdout",
          "text": [
            "####\n",
            " information\n",
            "[('data', 0.792040228843689), ('knowledge', 0.7303784489631653), ('access', 0.7285565137863159)]\n",
            "####\n",
            " retrieval\n",
            "[('visualization', 0.6772168874740601), ('archiving', 0.6425986289978027), ('annotation', 0.6357002258300781)]\n",
            "0:00:00.037642\n"
          ]
        },
        {
          "output_type": "execute_result",
          "data": {
            "text/plain": [
              "\"\\n####\\n best\\n[('good', 0.8546279668807983), ('play', 0.8287460803985596), ('winning', 0.826166033744812)]\\n####\\n marvel\\n[('comics', 0.8800784945487976), ('superhero', 0.7951078414916992), ('imprint', 0.776889443397522)]\\n####\\n movie\\n[('movies', 0.9322481155395508), ('film', 0.9310100078582764), ('films', 0.8937394022941589)]\\n0:00:00.049014\\n\""
            ],
            "application/vnd.google.colaboratory.intrinsic+json": {
              "type": "string"
            }
          },
          "metadata": {},
          "execution_count": 15
        }
      ]
    },
    {
      "cell_type": "code",
      "source": [
        "from collections import Counter\n",
        "import gensim.downloader as api\n",
        "import logging\n",
        "logging.basicConfig(format='%(asctime)s : %(levelname)s : %(message)s', level=logging.INFO)\n",
        "from datetime import datetime as dt\n",
        "from gensim.models.word2vec import Word2Vec\n",
        "import json\n",
        "print(api.load('glove-wiki-gigaword-100', return_path=True))\n",
        "#model = api.load(\"glove-wiki-gigaword-100\")\n",
        "l = []\n",
        "english_stopwords = ['i', 'me', 'my', 'myself', 'we', 'our', 'ours', 'ourselves', 'you', \"you're\", \"you've\", \"you'll\", \"you'd\", 'your', 'yours', 'yourself', 'yourselves', 'he', 'him', 'his', 'himself', 'she', \"she's\", 'her', 'hers', 'herself', 'it', \"it's\", 'its', 'itself', 'they', 'them', 'their', 'theirs', 'themselves', 'what', 'which', 'who', 'whom', 'this', 'that', \"that'll\", 'these', 'those', 'am', 'is', 'are', 'was', 'were', 'be', 'been', 'being', 'have', 'has', 'had', 'having', 'do', 'does', 'did', 'doing', 'a', 'an', 'the', 'and', 'but', 'if', 'or', 'because', 'as', 'until', 'while', 'of', 'at', 'by', 'for', 'with', 'about', 'against', 'between', 'into', 'through', 'during', 'before', 'after', 'above', 'below', 'to', 'from', 'up', 'down', 'in', 'out', 'on', 'off', 'over', 'under', 'again', 'further', 'then', 'once', 'here', 'there', 'when', 'where', 'why', 'how', 'all', 'any', 'both', 'each', 'few', 'more', 'most', 'other', 'some', 'such', 'no', 'nor', 'not', 'only', 'own', 'same', 'so', 'than', 'too', 'very', 's', 't', 'can', 'will', 'just', 'don', \"don't\", 'should', \"should've\", 'now', 'd', 'll', 'm', 'o', 're', 've', 'y', 'ain', 'aren', \"aren't\", 'couldn', \"couldn't\", 'didn', \"didn't\", 'doesn', \"doesn't\", 'hadn', \"hadn't\", 'hasn', \"hasn't\", 'haven', \"haven't\", 'isn', \"isn't\", 'ma', 'mightn', \"mightn't\", 'mustn', \"mustn't\", 'needn', \"needn't\", 'shan', \"shan't\", 'shouldn', \"shouldn't\", 'wasn', \"wasn't\", 'weren', \"weren't\", 'won', \"won't\", 'wouldn', \"wouldn't\"]\n",
        "corpus_stopwords = [\"category\", \"references\", \"also\", \"external\", \"links\",\n",
        "                    \"may\", \"first\", \"see\", \"history\", \"people\", \"one\", \"two\",\n",
        "                    \"part\", \"thumb\", \"including\", \"second\", \"following\",\n",
        "                    \"many\", \"however\", \"would\", \"became\"]\n",
        "all_stopwords = set(english_stopwords+corpus_stopwords)\n",
        "query = [x for x in \"best marvel movie\".split() if x not in all_stopwords or len(x)<3]\n",
        "print(f\"query with no stopwords is: {query}\")\n",
        "t = dt.now()\n",
        "for q in query:\n",
        "  l+=model.similar_by_word(q,topn=10)\n",
        "print([x[0] for x in l])\n",
        "reverse_l = []\n",
        "for q in l:\n",
        "  reverse_l += model.similar_by_word(q[0])\n",
        "prefinal = [x for x in Counter([x[0] for x in reverse_l]+query+query).most_common()]\n",
        "print(f\"prefinal is {prefinal}\")\n",
        "final = [prefinal[0]]\n",
        "i = 1\n",
        "while final[-1][1] > final[0][1]/2:\n",
        "  final.append(prefinal[i])\n",
        "  i+=1\n",
        "print(f\"final is {final}\")\n",
        "print(dt.now()-t)\n",
        "print(Counter(final))"
      ],
      "metadata": {
        "id": "bR7vuKy5svFI",
        "colab": {
          "base_uri": "https://localhost:8080/"
        },
        "outputId": "d523b29f-c925-4d21-db76-cc17c1a0965a"
      },
      "execution_count": null,
      "outputs": [
        {
          "output_type": "stream",
          "name": "stdout",
          "text": [
            "/root/gensim-data/glove-wiki-gigaword-100/glove-wiki-gigaword-100.gz\n",
            "query with no stopwords is: ['best', 'marvel', 'movie']\n",
            "['good', 'well', 'better', 'winning', 'one', 'performance', 'success', 'ever', 'excellent', 'play', 'comics', 'superhero', 'superheroes', 'comic', 'spider-man', 'superman', 'dc', 'x-men', 'imprint', 'batman', 'film', 'movies', 'films', 'hollywood', 'comedy', 'drama', 'sequel', 'starring', 'remake', 'shows']\n",
            "prefinal is [('movie', 12), ('marvel', 11), ('superhero', 7), ('comics', 7), ('comedy', 7), ('film', 7), ('best', 6), ('superman', 6), ('films', 6), ('comic', 4), ('superheroes', 4), ('movies', 4), ('better', 3), ('even', 3), ('well', 3), ('supervillain', 3), ('batman', 3), ('villain', 3), ('animated', 3), ('spider-man', 3), ('documentary', 3), ('drama', 3), ('starring', 3), ('hollywood', 3), ('sure', 2), ('very', 2), ('we', 2), ('way', 2), ('as', 2), ('so', 2), ('most', 2), ('good', 2), ('quality', 2), ('impressive', 2), ('show', 2), ('yet', 2), ('time', 2), ('fiction', 2), ('imprint', 2), ('villains', 2), ('mutants', 2), ('parody', 2), ('wolverine', 2), ('avengers', 2), ('wildstorm', 2), ('sequel', 2), ('directed', 2), ('cinema', 2), ('comedies', 2), ('dramas', 2), ('tv', 2), ('documentaries', 2), ('thriller', 2), ('miniseries', 2), ('adaptation', 2), ('really', 1), ('kind', 1), ('think', 1), ('thing', 1), (\"'re\", 1), ('and', 1), ('both', 1), ('but', 1), ('though', 1), ('.', 1), ('need', 1), ('get', 1), ('make', 1), ('won', 1), ('win', 1), ('winner', 1), ('wins', 1), ('victory', 1), ('losing', 1), ('winners', 1), ('title', 1), ('finishing', 1), ('only', 1), ('another', 1), ('this', 1), ('same', 1), ('two', 1), ('it', 1), ('three', 1), ('the', 1), ('performances', 1), ('success', 1), ('performing', 1), ('excellent', 1), ('achieved', 1), ('successful', 1), ('successes', 1), ('despite', 1), ('popularity', 1), ('thanks', 1), ('performance', 1), ('never', 1), ('once', 1), (\"'ve\", 1), ('having', 1), ('coming', 1), ('actually', 1), (\"n't\", 1), ('terrific', 1), ('superb', 1), ('solid', 1), ('decent', 1), ('perfect', 1), ('playing', 1), ('played', 1), ('game', 1), ('plays', 1), ('player', 1), ('players', 1), ('match', 1), ('games', 1), ('again', 1), ('manga', 1), ('anthology', 1), ('dc', 1), ('fictional', 1), ('supervillains', 1), ('zombies', 1), ('protagonists', 1), ('character', 1), ('characters', 1), ('comedic', 1), ('cartoon', 1), ('x-men', 1), ('hulk', 1), ('punisher', 1), ('beast', 1), ('superboy', 1), ('supergirl', 1), ('luthor', 1), ('transformers', 1), ('x-factor', 1), ('cyclops', 1), ('x-force', 1), ('ultimates', 1), ('magneto', 1), ('imprints', 1), ('label', 1), ('vertigo', 1), ('publishing', 1), ('paperback', 1), ('publisher', 1), ('reissued', 1), ('catwoman', 1), ('joker', 1), ('gotham', 1), ('videos', 1), ('productions', 1), ('theatrical', 1), ('broadway', 1), ('disney', 1), ('theater', 1), ('actors', 1), ('entertainment', 1), ('sitcom', 1), ('musical', 1), ('horror', 1), ('prequel', 1), ('remake', 1), ('sequels', 1), ('trilogy', 1), ('novel', 1), ('episode', 1), ('fantasy', 1), ('starred', 1), ('actor', 1), ('actress', 1), ('co-starring', 1), ('spoof', 1), ('remade', 1), ('shown', 1), ('showing', 1), ('seen', 1), ('featured', 1), ('television', 1), ('feature', 1), ('features', 1)]\n",
            "final is [('movie', 12), ('marvel', 11), ('superhero', 7), ('comics', 7), ('comedy', 7), ('film', 7), ('best', 6)]\n",
            "0:00:00.497961\n",
            "Counter({('movie', 12): 1, ('marvel', 11): 1, ('superhero', 7): 1, ('comics', 7): 1, ('comedy', 7): 1, ('film', 7): 1, ('best', 6): 1})\n"
          ]
        }
      ]
    },
    {
      "cell_type": "code",
      "source": [
        "for word in query:\n",
        "  print(model.most_similar(word))"
      ],
      "metadata": {
        "colab": {
          "base_uri": "https://localhost:8080/"
        },
        "id": "wjJ-Eg75svHU",
        "outputId": "ce9a9385-07ee-4db3-e27f-f90e02a5174d"
      },
      "execution_count": null,
      "outputs": [
        {
          "output_type": "stream",
          "name": "stdout",
          "text": [
            "[('better', 0.6432195901870728), ('good', 0.6396937370300293), ('winning', 0.6242808103561401), ('well', 0.6111009120941162), ('award', 0.5906976461410522), ('time', 0.5799382328987122), ('one', 0.5707886219024658), ('way', 0.5675212144851685), ('awards', 0.566448450088501), ('ever', 0.5636553764343262)]\n",
            "[('comics', 0.7310991287231445), ('superhero', 0.6393498182296753), ('superheroes', 0.6023717522621155), ('spider-man', 0.5717810392379761), ('comic', 0.5633426904678345), ('x-men', 0.5514470338821411), ('universe', 0.5288318395614624), ('superman', 0.5286803245544434), ('dc', 0.5161827206611633), ('supervillain', 0.5135153532028198)]\n",
            "[('film', 0.8588785529136658), ('movies', 0.8493473529815674), ('films', 0.7908679246902466), ('hollywood', 0.6792328357696533), ('starring', 0.6750692129135132), ('comedy', 0.6588271856307983), ('sequel', 0.6462537050247192), ('remake', 0.6244416832923889), ('drama', 0.6084415912628174), ('actor', 0.5996951460838318)]\n"
          ]
        }
      ]
    }
  ]
}